{
 "cells": [
  {
   "cell_type": "code",
   "execution_count": 2,
   "metadata": {},
   "outputs": [],
   "source": [
    "#import the English language class \n",
    "from spacy.lang.en import English"
   ]
  },
  {
   "cell_type": "code",
   "execution_count": 3,
   "metadata": {},
   "outputs": [],
   "source": [
    "# create the nlp object\n",
    "nlp = English()"
   ]
  },
  {
   "cell_type": "code",
   "execution_count": 4,
   "metadata": {},
   "outputs": [
    {
     "data": {
      "text/plain": [
       "<spacy.lang.en.English at 0x7f4cceee4280>"
      ]
     },
     "execution_count": 4,
     "metadata": {},
     "output_type": "execute_result"
    }
   ],
   "source": [
    "nlp"
   ]
  },
  {
   "cell_type": "code",
   "execution_count": 6,
   "metadata": {},
   "outputs": [
    {
     "data": {
      "text/plain": [
       "Hello World!"
      ]
     },
     "execution_count": 6,
     "metadata": {},
     "output_type": "execute_result"
    }
   ],
   "source": [
    "#processing a string of text by nlp object\n",
    "doc = nlp('Hello World!')\n",
    "doc"
   ]
  },
  {
   "cell_type": "code",
   "execution_count": 8,
   "metadata": {},
   "outputs": [
    {
     "name": "stdout",
     "output_type": "stream",
     "text": [
      "Hello\n",
      "World\n",
      "!\n"
     ]
    }
   ],
   "source": [
    "for token in doc:\n",
    "    print(token)"
   ]
  },
  {
   "cell_type": "code",
   "execution_count": 9,
   "metadata": {},
   "outputs": [
    {
     "name": "stdout",
     "output_type": "stream",
     "text": [
      "First token -  Hello\n",
      "Second token -  World\n",
      "Third token -  !\n"
     ]
    }
   ],
   "source": [
    "#tokens\n",
    "token1 = doc[0]\n",
    "token2 = doc[1]\n",
    "token3 = doc[2]\n",
    "print(\"First token - \",token1)\n",
    "print('Second token - ',token2)\n",
    "print('Third token - ',token3)"
   ]
  },
  {
   "cell_type": "code",
   "execution_count": 10,
   "metadata": {},
   "outputs": [
    {
     "data": {
      "text/plain": [
       "spacy.tokens.token.Token"
      ]
     },
     "execution_count": 10,
     "metadata": {},
     "output_type": "execute_result"
    }
   ],
   "source": [
    "# this token is an instance of Token class from spacy\n",
    "type(token1)"
   ]
  },
  {
   "cell_type": "code",
   "execution_count": 11,
   "metadata": {},
   "outputs": [
    {
     "name": "stdout",
     "output_type": "stream",
     "text": [
      "Hello\n",
      "<class 'str'>\n"
     ]
    }
   ],
   "source": [
    "# however, token.text returns an instance of str \n",
    "print(token1.text)\n",
    "print(type(token1.text))"
   ]
  },
  {
   "cell_type": "code",
   "execution_count": 13,
   "metadata": {},
   "outputs": [
    {
     "name": "stdout",
     "output_type": "stream",
     "text": [
      "World!\n",
      "<class 'spacy.tokens.span.Span'>\n"
     ]
    }
   ],
   "source": [
    "#span\n",
    "span = doc[1:3]\n",
    "print(span)\n",
    "print(type(span))"
   ]
  },
  {
   "cell_type": "code",
   "execution_count": 14,
   "metadata": {},
   "outputs": [
    {
     "name": "stdout",
     "output_type": "stream",
     "text": [
      "World!\n",
      "<class 'str'>\n"
     ]
    }
   ],
   "source": [
    "print(span.text)\n",
    "print(type(span.text))"
   ]
  },
  {
   "cell_type": "code",
   "execution_count": 25,
   "metadata": {},
   "outputs": [
    {
     "name": "stdout",
     "output_type": "stream",
     "text": [
      "Tokens -  [My, name, is, Hardik, and, am, 21, years, old, .]\n",
      "Index -  [0, 1, 2, 3, 4, 5, 6, 7, 8, 9]\n",
      "Text -  ['My', 'name', 'is', 'Hardik', 'and', 'am', '21', 'years', 'old', '.']\n",
      "Aplha -  [True, True, True, True, True, True, False, True, True, False]\n",
      "punct -  [False, False, False, False, False, False, False, False, False, True]\n",
      "Is num -  [False, False, False, False, False, False, True, False, False, False]\n"
     ]
    }
   ],
   "source": [
    "# Attributes of a token\n",
    "doc = nlp('My name is Hardik and am 21 years old.')\n",
    "\n",
    "#tokens\n",
    "print('Tokens - ',[token for token in doc])\n",
    "\n",
    "#index of token in a doc\n",
    "print('Index - ',[token.i for token in doc])\n",
    "\n",
    "#text of each token (type str)\n",
    "print('Text - ',[token.text for token in doc])\n",
    "\n",
    "# check is each token is alpha numeric\n",
    "print('Aplha - ',[token.is_alpha for token in doc])\n",
    "\n",
    "# check if each token is a punctuation\n",
    "print('punct - ',[token.is_punct for token in doc])\n",
    "\n",
    "# check if each each token is a num\n",
    "print('Is num - ',[token.like_num for token in doc])"
   ]
  },
  {
   "cell_type": "code",
   "execution_count": 26,
   "metadata": {},
   "outputs": [
    {
     "name": "stdout",
     "output_type": "stream",
     "text": [
      "Tokens -  [I, am, twenty, one, years, of, age, .]\n",
      "Index -  [0, 1, 2, 3, 4, 5, 6, 7]\n",
      "Text -  ['I', 'am', 'twenty', 'one', 'years', 'of', 'age', '.']\n",
      "Aplha -  [True, True, True, True, True, True, True, False]\n",
      "punct -  [False, False, False, False, False, False, False, True]\n",
      "Is num -  [False, False, True, True, False, False, False, False]\n"
     ]
    }
   ],
   "source": [
    "# Attributes of a token\n",
    "doc = nlp('I am twenty one years of age.')\n",
    "\n",
    "#tokens\n",
    "print('Tokens - ',[token for token in doc])\n",
    "\n",
    "#index of token in a doc\n",
    "print('Index - ',[token.i for token in doc])\n",
    "\n",
    "#text of each token (type str)\n",
    "print('Text - ',[token.text for token in doc])\n",
    "\n",
    "# check is each token is alpha numeric\n",
    "print('Aplha - ',[token.is_alpha for token in doc])\n",
    "\n",
    "# check if each token is a punctuation\n",
    "print('punct - ',[token.is_punct for token in doc])\n",
    "\n",
    "# check if each each token is a num\n",
    "print('Is num - ',[token.like_num for token in doc])"
   ]
  },
  {
   "cell_type": "markdown",
   "metadata": {},
   "source": [
    "Check the is_num in this case, it even prints true even if the input contains a string, like 'twenty', 'one'"
   ]
  },
  {
   "cell_type": "markdown",
   "metadata": {},
   "source": [
    "# Statistical models"
   ]
  },
  {
   "cell_type": "code",
   "execution_count": 27,
   "metadata": {},
   "outputs": [],
   "source": [
    "import spacy\n",
    "\n",
    "# load the small english model\n",
    "nlp = spacy.load('en_core_web_sm')"
   ]
  },
  {
   "cell_type": "code",
   "execution_count": 29,
   "metadata": {},
   "outputs": [
    {
     "name": "stdout",
     "output_type": "stream",
     "text": [
      "She PRON\n",
      "ate VERB\n",
      "the DET\n",
      "pizza NOUN\n"
     ]
    }
   ],
   "source": [
    "# using model to get pos tag\n",
    "doc = nlp('She ate the pizza')\n",
    "\n",
    "for token in doc:\n",
    "    print(token.text,token.pos_)"
   ]
  },
  {
   "cell_type": "code",
   "execution_count": 31,
   "metadata": {},
   "outputs": [
    {
     "name": "stdout",
     "output_type": "stream",
     "text": [
      "She PRON nsubj ate\n",
      "ate VERB ROOT ate\n",
      "the DET det pizza\n",
      "pizza NOUN dobj ate\n"
     ]
    }
   ],
   "source": [
    "# using model to get pos tag\n",
    "doc = nlp('She ate the pizza')\n",
    "\n",
    "# getting the subject object role for a token along with grouped token\n",
    "for token in doc:\n",
    "    print(token.text,token.pos_,token.dep_,token.head.text)"
   ]
  },
  {
   "cell_type": "code",
   "execution_count": 35,
   "metadata": {},
   "outputs": [
    {
     "name": "stdout",
     "output_type": "stream",
     "text": [
      "Apple ORG\n",
      "Facebook ORG\n",
      "$10 million MONEY\n"
     ]
    }
   ],
   "source": [
    "# predicting entities\n",
    "doc = nlp('Apple is looking to buy Facebook for $10 million')\n",
    "\n",
    "for ent in doc.ents:\n",
    "    print(ent.text,ent.label_)"
   ]
  },
  {
   "cell_type": "code",
   "execution_count": 36,
   "metadata": {},
   "outputs": [
    {
     "name": "stdout",
     "output_type": "stream",
     "text": [
      "Apple ORG\n"
     ]
    }
   ],
   "source": [
    "# predicting entities\n",
    "doc = nlp('I am eating apples sitting in Apple office')\n",
    "\n",
    "for ent in doc.ents:\n",
    "    print(ent.text,ent.label_)"
   ]
  },
  {
   "cell_type": "code",
   "execution_count": 38,
   "metadata": {},
   "outputs": [
    {
     "data": {
      "text/plain": [
       "'Companies, agencies, institutions, etc.'"
      ]
     },
     "execution_count": 38,
     "metadata": {},
     "output_type": "execute_result"
    }
   ],
   "source": [
    "# what does ORG refer to \n",
    "spacy.explain('ORG')"
   ]
  },
  {
   "cell_type": "markdown",
   "metadata": {},
   "source": [
    "# Matching patterns"
   ]
  },
  {
   "cell_type": "code",
   "execution_count": 3,
   "metadata": {},
   "outputs": [],
   "source": [
    "import spacy \n",
    "\n",
    "#import matcher \n",
    "from spacy.matcher import Matcher\n",
    "\n",
    "#load the model \n",
    "nlp = spacy.load('en_core_web_sm')\n",
    "\n",
    "#initialize the mathcer \n",
    "matcher = Matcher(nlp.vocab)\n",
    "\n",
    "#add the patter \n",
    "pattern = [{'TEXT':'iPhone'},{'TEXT':'X'}]\n",
    "matcher.add('iphone_x',None,pattern)\n",
    "\n",
    "#process some text\n",
    "doc = nlp('Upcoming iPhone X release data leaked')\n",
    "\n",
    "# find the matches\n",
    "matches = matcher(doc)"
   ]
  },
  {
   "cell_type": "code",
   "execution_count": 4,
   "metadata": {},
   "outputs": [
    {
     "data": {
      "text/plain": [
       "[(1738708750870670527, 1, 3)]"
      ]
     },
     "execution_count": 4,
     "metadata": {},
     "output_type": "execute_result"
    }
   ],
   "source": [
    "matches"
   ]
  },
  {
   "cell_type": "code",
   "execution_count": null,
   "metadata": {},
   "outputs": [],
   "source": []
  }
 ],
 "metadata": {
  "kernelspec": {
   "display_name": "Python 3",
   "language": "python",
   "name": "python3"
  },
  "language_info": {
   "codemirror_mode": {
    "name": "ipython",
    "version": 3
   },
   "file_extension": ".py",
   "mimetype": "text/x-python",
   "name": "python",
   "nbconvert_exporter": "python",
   "pygments_lexer": "ipython3",
   "version": "3.8.3"
  }
 },
 "nbformat": 4,
 "nbformat_minor": 4
}
